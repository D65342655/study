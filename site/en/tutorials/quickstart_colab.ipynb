{
  "cells": [
    {
      "cell_type": "markdown",
      "metadata": {
        "id": "Tce3stUlHN0L"
      },
      "source": [
        "##### Copyright 2024 Google LLC."
      ]
    },
    {
      "cell_type": "code",
      "source": [
        "import pandas as pd\n",
        "import numpy as np\n",
        "import matplotlib.pyplot as plt\n",
        "\n",
        "# Step 1: Load and Preprocess Data\n",
        "def load_data(co2_data_path, esg_data_path):\n",
        "    \"\"\"\n",
        "    Load CO2 footprint and ESG data from CSV files.\n",
        "    \"\"\"\n",
        "    # อ่านข้อมูลจากไฟล์ CSV\n",
        "    co2_data = pd.read_csv(co2_data_path)\n",
        "    esg_data = pd.read_csv(esg_data_path)\n",
        "\n",
        "    # แสดงข้อมูลเพื่อเช็คว่าโหลดถูกต้อง\n",
        "    print(\"CO2 Data:\")\n",
        "    print(co2_data.head())  # ดูข้อมูลบางส่วนของ CO2 data\n",
        "    print(\"\\nESG Data:\")\n",
        "    print(esg_data.head())  # ดูข้อมูลบางส่วนของ ESG data\n",
        "\n",
        "    # แปลงปีจากตัวเลขให้เป็น datetime เพื่อให้สามารถจัดการได้ง่ายขึ้น\n",
        "    co2_data = co2_data.melt(id_vars=[\"company\"], var_name=\"year\", value_name=\"co2_emission\")\n",
        "    co2_data['year'] = pd.to_datetime(co2_data['year'], format='%Y')\n",
        "\n",
        "    esg_data['year'] = pd.to_datetime(esg_data['year'], format='%Y')\n",
        "\n",
        "    return co2_data, esg_data\n",
        "\n",
        "# Step 2: Analyze CO2 Footprint Reduction\n",
        "def analyze_co2_reduction(co2_data):\n",
        "    \"\"\"\n",
        "    Calculate average CO2 reduction from the trading system, by company and year.\n",
        "    \"\"\"\n",
        "    # คำนวณการลด CO2 โดยใช้ข้อมูลจาก co2_data\n",
        "    co2_data['reduction'] = co2_data['co2_emission']  # ใช้คอลัมน์ co2_emission เป็นตัวลด CO2\n",
        "    yearly_reduction = co2_data.groupby(['company', 'year'])['reduction'].mean().reset_index()\n",
        "\n",
        "    # คำนวณค่าเฉลี่ยการลด CO2 โดยรวมของแต่ละบริษัท\n",
        "    avg_reduction = co2_data.groupby('company')['reduction'].mean()\n",
        "\n",
        "    # แสดงกราฟการลด CO2\n",
        "    plt.figure(figsize=(10, 6))\n",
        "    for company in co2_data['company'].unique():\n",
        "        company_data = yearly_reduction[yearly_reduction['company'] == company]\n",
        "        plt.plot(company_data['year'], company_data['reduction'], label=company)\n",
        "\n",
        "    plt.xlabel('Year')\n",
        "    plt.ylabel('CO2 Reduction')\n",
        "    plt.title('CO2 Reduction Over Time for Each Company')\n",
        "    plt.legend()\n",
        "    plt.show()\n",
        "\n",
        "    print(f\"Average CO2 reduction per company: \\n{avg_reduction}\")\n",
        "    return avg_reduction, yearly_reduction\n",
        "\n",
        "# Step 3: Compare ESG Scores from Different Raters\n",
        "def compare_esg_raters(esg_data):\n",
        "    \"\"\"\n",
        "    Compare ESG scores between SET and S&P raters, and track the evolution over time.\n",
        "    \"\"\"\n",
        "    # แยกข้อมูลออกเป็น SET และ S&P\n",
        "    set_scores = esg_data[['company', 'year', 'esg_score_SET']]\n",
        "    sp_scores = esg_data[['company', 'year', 'esg_score_S&P']]\n",
        "\n",
        "    # Plotting ESG Scores over time\n",
        "    plt.figure(figsize=(10, 6))\n",
        "    plt.plot(set_scores['year'], set_scores['esg_score_SET'], label='SET')\n",
        "    plt.plot(sp_scores['year'], sp_scores['esg_score_S&P'], label='S&P')\n",
        "    plt.xlabel('Year')\n",
        "    plt.ylabel('ESG Score')\n",
        "    plt.title('ESG Score Comparison Over Time')\n",
        "    plt.legend()\n",
        "    plt.show()\n",
        "\n",
        "    # แสดงคะแนน ESG ทั้งหมด\n",
        "    print(\"ESG Scores by SET and S&P:\")\n",
        "    print(set_scores.head())\n",
        "    print(sp_scores.head())\n",
        "\n",
        "# Example usage (replace with your actual file paths)\n",
        "co2_data_path = 'co2_data.csv'  # Path to your CO2 data CSV file\n",
        "esg_data_path = 'esg_data.csv'  # Path to your ESG data CSV file\n",
        "\n",
        "try:\n",
        "    co2_data, esg_data = load_data(co2_data_path, esg_data_path)\n",
        "    avg_reduction, yearly_reduction = analyze_co2_reduction(co2_data)\n",
        "    compare_esg_raters(esg_data)\n",
        "except FileNotFoundError:\n",
        "    print(\"One or both of the data files were not found. Please check file paths.\")\n",
        "except KeyError as e:\n",
        "    print(f\"Error: Missing column in data file: {e}\")\n",
        "except Exception as e:\n",
        "    print(f\"An unexpected error occurred: {e}\")\n",
        "\n"
      ],
      "metadata": {
        "id": "afrJXC7KJDUn",
        "outputId": "e26cb56d-00a6-4a8e-d2ed-3cadfbf1451b",
        "colab": {
          "base_uri": "https://localhost:8080/"
        }
      },
      "execution_count": 6,
      "outputs": [
        {
          "output_type": "stream",
          "name": "stdout",
          "text": [
            "One or both of the data files were not found. Please check file paths.\n"
          ]
        }
      ]
    }
  ],
  "metadata": {
    "colab": {
      "name": "quickstart_colab.ipynb",
      "provenance": []
    },
    "kernelspec": {
      "display_name": "Python 3",
      "name": "python3"
    }
  },
  "nbformat": 4,
  "nbformat_minor": 0
}